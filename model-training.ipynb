{
 "cells": [
  {
   "cell_type": "markdown",
   "id": "693ebbb8-ed93-4077-8e78-d469fe6f752d",
   "metadata": {},
   "source": [
    "## 1. Importing Libraries"
   ]
  },
  {
   "cell_type": "code",
   "execution_count": 1,
   "id": "237aab83-d09a-4a86-9252-e2a874cf27bf",
   "metadata": {},
   "outputs": [],
   "source": [
    "import numpy as np\n",
    "\n",
    "import pandas as pd\n",
    "\n",
    "import sklearn\n",
    "from sklearn.impute import SimpleImputer\n",
    "from sklearn.preprocessing import StandardScaler, OneHotEncoder\n",
    "from sklearn.pipeline import Pipeline\n",
    "from sklearn.compose import ColumnTransformer\n",
    "from sklearn.linear_model import LinearRegression\n",
    "from sklearn.svm import SVR\n",
    "from sklearn.ensemble import RandomForestRegressor\n",
    "from sklearn.metrics import r2_score\n",
    "from sklearn.model_selection import learning_curve,GridSearchCV,RandomizedSearchCV\n",
    "\n",
    "from feature_engine.datetime import DatetimeFeatures\n",
    "\n",
    "from xgboost import XGBRegressor\n",
    "\n",
    "import joblib\n",
    "\n",
    "import matplotlib.pyplot as plt"
   ]
  },
  {
   "cell_type": "markdown",
   "id": "848a10ff-365f-4cb4-90d6-8c3f07d6f56a",
   "metadata": {},
   "source": [
    "## 2. Display Settings"
   ]
  },
  {
   "cell_type": "code",
   "execution_count": 2,
   "id": "7596b000-a1b3-4898-b8b3-d18807812986",
   "metadata": {},
   "outputs": [],
   "source": [
    "pd.set_option(\"display.max_columns\", None)"
   ]
  },
  {
   "cell_type": "code",
   "execution_count": 3,
   "id": "38f38b32-dc25-4cc1-b6fd-373a7ba1beb7",
   "metadata": {},
   "outputs": [],
   "source": [
    "sklearn.set_config(transform_output=\"default\")"
   ]
  },
  {
   "cell_type": "markdown",
   "id": "fce0b908-6b3b-46aa-991e-0b700d90c088",
   "metadata": {},
   "source": [
    "## 3. Getting the Data"
   ]
  },
  {
   "cell_type": "code",
   "execution_count": 4,
   "id": "4cb19294",
   "metadata": {},
   "outputs": [],
   "source": [
    "train_df = pd.read_csv(\"C:/Users/User/OneDrive/Desktop/flight project/data/train.csv\")\n",
    "val_df = pd.read_csv(\"C:/Users/User/OneDrive/Desktop/flight project/data/val.csv\")\n",
    "test_df = pd.read_csv(\"C:/Users/User/OneDrive/Desktop/flight project/data/test.csv\")"
   ]
  },
  {
   "cell_type": "code",
   "execution_count": 5,
   "id": "e309c5e7-26ae-43b8-88ae-b7dc7a4d2c94",
   "metadata": {},
   "outputs": [
    {
     "data": {
      "text/html": [
       "<div>\n",
       "<style scoped>\n",
       "    .dataframe tbody tr th:only-of-type {\n",
       "        vertical-align: middle;\n",
       "    }\n",
       "\n",
       "    .dataframe tbody tr th {\n",
       "        vertical-align: top;\n",
       "    }\n",
       "\n",
       "    .dataframe thead th {\n",
       "        text-align: right;\n",
       "    }\n",
       "</style>\n",
       "<table border=\"1\" class=\"dataframe\">\n",
       "  <thead>\n",
       "    <tr style=\"text-align: right;\">\n",
       "      <th></th>\n",
       "      <th>airline</th>\n",
       "      <th>date_of_journey</th>\n",
       "      <th>source</th>\n",
       "      <th>destination</th>\n",
       "      <th>dep_time</th>\n",
       "      <th>arrival_time</th>\n",
       "      <th>duration</th>\n",
       "      <th>total_stops</th>\n",
       "      <th>additional_info</th>\n",
       "      <th>price</th>\n",
       "    </tr>\n",
       "  </thead>\n",
       "  <tbody>\n",
       "    <tr>\n",
       "      <th>0</th>\n",
       "      <td>Jet Airways</td>\n",
       "      <td>2019-03-21</td>\n",
       "      <td>Banglore</td>\n",
       "      <td>New Delhi</td>\n",
       "      <td>08:55:00</td>\n",
       "      <td>19:10:00</td>\n",
       "      <td>615</td>\n",
       "      <td>1.0</td>\n",
       "      <td>In-flight meal not included</td>\n",
       "      <td>7832</td>\n",
       "    </tr>\n",
       "    <tr>\n",
       "      <th>1</th>\n",
       "      <td>Jet Airways</td>\n",
       "      <td>2019-03-27</td>\n",
       "      <td>Delhi</td>\n",
       "      <td>Cochin</td>\n",
       "      <td>17:30:00</td>\n",
       "      <td>04:25:00</td>\n",
       "      <td>655</td>\n",
       "      <td>1.0</td>\n",
       "      <td>In-flight meal not included</td>\n",
       "      <td>6540</td>\n",
       "    </tr>\n",
       "    <tr>\n",
       "      <th>2</th>\n",
       "      <td>Goair</td>\n",
       "      <td>2019-03-09</td>\n",
       "      <td>Banglore</td>\n",
       "      <td>New Delhi</td>\n",
       "      <td>11:40:00</td>\n",
       "      <td>14:35:00</td>\n",
       "      <td>175</td>\n",
       "      <td>0.0</td>\n",
       "      <td>No Info</td>\n",
       "      <td>7305</td>\n",
       "    </tr>\n",
       "    <tr>\n",
       "      <th>3</th>\n",
       "      <td>Air India</td>\n",
       "      <td>2019-06-12</td>\n",
       "      <td>Kolkata</td>\n",
       "      <td>Banglore</td>\n",
       "      <td>09:25:00</td>\n",
       "      <td>18:30:00</td>\n",
       "      <td>545</td>\n",
       "      <td>1.0</td>\n",
       "      <td>No Info</td>\n",
       "      <td>8366</td>\n",
       "    </tr>\n",
       "    <tr>\n",
       "      <th>4</th>\n",
       "      <td>Jet Airways</td>\n",
       "      <td>2019-03-12</td>\n",
       "      <td>Banglore</td>\n",
       "      <td>New Delhi</td>\n",
       "      <td>22:55:00</td>\n",
       "      <td>07:40:00</td>\n",
       "      <td>525</td>\n",
       "      <td>1.0</td>\n",
       "      <td>In-flight meal not included</td>\n",
       "      <td>11087</td>\n",
       "    </tr>\n",
       "    <tr>\n",
       "      <th>...</th>\n",
       "      <td>...</td>\n",
       "      <td>...</td>\n",
       "      <td>...</td>\n",
       "      <td>...</td>\n",
       "      <td>...</td>\n",
       "      <td>...</td>\n",
       "      <td>...</td>\n",
       "      <td>...</td>\n",
       "      <td>...</td>\n",
       "      <td>...</td>\n",
       "    </tr>\n",
       "    <tr>\n",
       "      <th>6690</th>\n",
       "      <td>Jet Airways</td>\n",
       "      <td>2019-03-21</td>\n",
       "      <td>Delhi</td>\n",
       "      <td>Cochin</td>\n",
       "      <td>10:45:00</td>\n",
       "      <td>18:50:00</td>\n",
       "      <td>1925</td>\n",
       "      <td>2.0</td>\n",
       "      <td>No Info</td>\n",
       "      <td>11093</td>\n",
       "    </tr>\n",
       "    <tr>\n",
       "      <th>6691</th>\n",
       "      <td>Air India</td>\n",
       "      <td>2019-05-01</td>\n",
       "      <td>Kolkata</td>\n",
       "      <td>Banglore</td>\n",
       "      <td>09:25:00</td>\n",
       "      <td>18:30:00</td>\n",
       "      <td>545</td>\n",
       "      <td>1.0</td>\n",
       "      <td>No Info</td>\n",
       "      <td>8891</td>\n",
       "    </tr>\n",
       "    <tr>\n",
       "      <th>6692</th>\n",
       "      <td>Jet Airways</td>\n",
       "      <td>2019-06-01</td>\n",
       "      <td>Delhi</td>\n",
       "      <td>Cochin</td>\n",
       "      <td>14:00:00</td>\n",
       "      <td>19:00:00</td>\n",
       "      <td>300</td>\n",
       "      <td>1.0</td>\n",
       "      <td>In-flight meal not included</td>\n",
       "      <td>10262</td>\n",
       "    </tr>\n",
       "    <tr>\n",
       "      <th>6693</th>\n",
       "      <td>Air Asia</td>\n",
       "      <td>2019-06-24</td>\n",
       "      <td>Delhi</td>\n",
       "      <td>Cochin</td>\n",
       "      <td>07:55:00</td>\n",
       "      <td>13:25:00</td>\n",
       "      <td>330</td>\n",
       "      <td>1.0</td>\n",
       "      <td>No Info</td>\n",
       "      <td>6152</td>\n",
       "    </tr>\n",
       "    <tr>\n",
       "      <th>6694</th>\n",
       "      <td>Air India</td>\n",
       "      <td>2019-03-01</td>\n",
       "      <td>Banglore</td>\n",
       "      <td>New Delhi</td>\n",
       "      <td>11:50:00</td>\n",
       "      <td>08:55:00</td>\n",
       "      <td>1265</td>\n",
       "      <td>1.0</td>\n",
       "      <td>1 Long layover</td>\n",
       "      <td>14594</td>\n",
       "    </tr>\n",
       "  </tbody>\n",
       "</table>\n",
       "<p>6695 rows × 10 columns</p>\n",
       "</div>"
      ],
      "text/plain": [
       "          airline date_of_journey    source destination  dep_time  \\\n",
       "0     Jet Airways      2019-03-21  Banglore   New Delhi  08:55:00   \n",
       "1     Jet Airways      2019-03-27     Delhi      Cochin  17:30:00   \n",
       "2           Goair      2019-03-09  Banglore   New Delhi  11:40:00   \n",
       "3       Air India      2019-06-12   Kolkata    Banglore  09:25:00   \n",
       "4     Jet Airways      2019-03-12  Banglore   New Delhi  22:55:00   \n",
       "...           ...             ...       ...         ...       ...   \n",
       "6690  Jet Airways      2019-03-21     Delhi      Cochin  10:45:00   \n",
       "6691    Air India      2019-05-01   Kolkata    Banglore  09:25:00   \n",
       "6692  Jet Airways      2019-06-01     Delhi      Cochin  14:00:00   \n",
       "6693     Air Asia      2019-06-24     Delhi      Cochin  07:55:00   \n",
       "6694    Air India      2019-03-01  Banglore   New Delhi  11:50:00   \n",
       "\n",
       "     arrival_time  duration  total_stops              additional_info  price  \n",
       "0        19:10:00       615          1.0  In-flight meal not included   7832  \n",
       "1        04:25:00       655          1.0  In-flight meal not included   6540  \n",
       "2        14:35:00       175          0.0                      No Info   7305  \n",
       "3        18:30:00       545          1.0                      No Info   8366  \n",
       "4        07:40:00       525          1.0  In-flight meal not included  11087  \n",
       "...           ...       ...          ...                          ...    ...  \n",
       "6690     18:50:00      1925          2.0                      No Info  11093  \n",
       "6691     18:30:00       545          1.0                      No Info   8891  \n",
       "6692     19:00:00       300          1.0  In-flight meal not included  10262  \n",
       "6693     13:25:00       330          1.0                      No Info   6152  \n",
       "6694     08:55:00      1265          1.0               1 Long layover  14594  \n",
       "\n",
       "[6695 rows x 10 columns]"
      ]
     },
     "execution_count": 5,
     "metadata": {},
     "output_type": "execute_result"
    }
   ],
   "source": [
    "train_df"
   ]
  },
  {
   "cell_type": "markdown",
   "id": "7d47a6f2-3b63-400e-a32b-cb176c9df24f",
   "metadata": {},
   "source": [
    "### 3.1 Split the Data"
   ]
  },
  {
   "cell_type": "code",
   "execution_count": 6,
   "id": "505dfb49-34b8-4644-9f65-ab765c5ea2da",
   "metadata": {},
   "outputs": [],
   "source": [
    "def split_data(data):\n",
    "\tX = data.drop(columns=\"price\")\n",
    "\ty = data.price.copy()\n",
    "\treturn (X, y)"
   ]
  },
  {
   "cell_type": "code",
   "execution_count": 7,
   "id": "8cd4095b-2925-4665-a2da-eb76fd9fa69c",
   "metadata": {},
   "outputs": [],
   "source": [
    "X_train, y_train = split_data(train_df)"
   ]
  },
  {
   "cell_type": "code",
   "execution_count": 8,
   "id": "fd82276f-f04f-4d4b-9114-f4a1298b67b1",
   "metadata": {},
   "outputs": [
    {
     "data": {
      "text/html": [
       "<div>\n",
       "<style scoped>\n",
       "    .dataframe tbody tr th:only-of-type {\n",
       "        vertical-align: middle;\n",
       "    }\n",
       "\n",
       "    .dataframe tbody tr th {\n",
       "        vertical-align: top;\n",
       "    }\n",
       "\n",
       "    .dataframe thead th {\n",
       "        text-align: right;\n",
       "    }\n",
       "</style>\n",
       "<table border=\"1\" class=\"dataframe\">\n",
       "  <thead>\n",
       "    <tr style=\"text-align: right;\">\n",
       "      <th></th>\n",
       "      <th>airline</th>\n",
       "      <th>date_of_journey</th>\n",
       "      <th>source</th>\n",
       "      <th>destination</th>\n",
       "      <th>dep_time</th>\n",
       "      <th>arrival_time</th>\n",
       "      <th>duration</th>\n",
       "      <th>total_stops</th>\n",
       "      <th>additional_info</th>\n",
       "    </tr>\n",
       "  </thead>\n",
       "  <tbody>\n",
       "    <tr>\n",
       "      <th>0</th>\n",
       "      <td>Jet Airways</td>\n",
       "      <td>2019-03-21</td>\n",
       "      <td>Banglore</td>\n",
       "      <td>New Delhi</td>\n",
       "      <td>08:55:00</td>\n",
       "      <td>19:10:00</td>\n",
       "      <td>615</td>\n",
       "      <td>1.0</td>\n",
       "      <td>In-flight meal not included</td>\n",
       "    </tr>\n",
       "    <tr>\n",
       "      <th>1</th>\n",
       "      <td>Jet Airways</td>\n",
       "      <td>2019-03-27</td>\n",
       "      <td>Delhi</td>\n",
       "      <td>Cochin</td>\n",
       "      <td>17:30:00</td>\n",
       "      <td>04:25:00</td>\n",
       "      <td>655</td>\n",
       "      <td>1.0</td>\n",
       "      <td>In-flight meal not included</td>\n",
       "    </tr>\n",
       "    <tr>\n",
       "      <th>2</th>\n",
       "      <td>Goair</td>\n",
       "      <td>2019-03-09</td>\n",
       "      <td>Banglore</td>\n",
       "      <td>New Delhi</td>\n",
       "      <td>11:40:00</td>\n",
       "      <td>14:35:00</td>\n",
       "      <td>175</td>\n",
       "      <td>0.0</td>\n",
       "      <td>No Info</td>\n",
       "    </tr>\n",
       "    <tr>\n",
       "      <th>3</th>\n",
       "      <td>Air India</td>\n",
       "      <td>2019-06-12</td>\n",
       "      <td>Kolkata</td>\n",
       "      <td>Banglore</td>\n",
       "      <td>09:25:00</td>\n",
       "      <td>18:30:00</td>\n",
       "      <td>545</td>\n",
       "      <td>1.0</td>\n",
       "      <td>No Info</td>\n",
       "    </tr>\n",
       "    <tr>\n",
       "      <th>4</th>\n",
       "      <td>Jet Airways</td>\n",
       "      <td>2019-03-12</td>\n",
       "      <td>Banglore</td>\n",
       "      <td>New Delhi</td>\n",
       "      <td>22:55:00</td>\n",
       "      <td>07:40:00</td>\n",
       "      <td>525</td>\n",
       "      <td>1.0</td>\n",
       "      <td>In-flight meal not included</td>\n",
       "    </tr>\n",
       "    <tr>\n",
       "      <th>...</th>\n",
       "      <td>...</td>\n",
       "      <td>...</td>\n",
       "      <td>...</td>\n",
       "      <td>...</td>\n",
       "      <td>...</td>\n",
       "      <td>...</td>\n",
       "      <td>...</td>\n",
       "      <td>...</td>\n",
       "      <td>...</td>\n",
       "    </tr>\n",
       "    <tr>\n",
       "      <th>6690</th>\n",
       "      <td>Jet Airways</td>\n",
       "      <td>2019-03-21</td>\n",
       "      <td>Delhi</td>\n",
       "      <td>Cochin</td>\n",
       "      <td>10:45:00</td>\n",
       "      <td>18:50:00</td>\n",
       "      <td>1925</td>\n",
       "      <td>2.0</td>\n",
       "      <td>No Info</td>\n",
       "    </tr>\n",
       "    <tr>\n",
       "      <th>6691</th>\n",
       "      <td>Air India</td>\n",
       "      <td>2019-05-01</td>\n",
       "      <td>Kolkata</td>\n",
       "      <td>Banglore</td>\n",
       "      <td>09:25:00</td>\n",
       "      <td>18:30:00</td>\n",
       "      <td>545</td>\n",
       "      <td>1.0</td>\n",
       "      <td>No Info</td>\n",
       "    </tr>\n",
       "    <tr>\n",
       "      <th>6692</th>\n",
       "      <td>Jet Airways</td>\n",
       "      <td>2019-06-01</td>\n",
       "      <td>Delhi</td>\n",
       "      <td>Cochin</td>\n",
       "      <td>14:00:00</td>\n",
       "      <td>19:00:00</td>\n",
       "      <td>300</td>\n",
       "      <td>1.0</td>\n",
       "      <td>In-flight meal not included</td>\n",
       "    </tr>\n",
       "    <tr>\n",
       "      <th>6693</th>\n",
       "      <td>Air Asia</td>\n",
       "      <td>2019-06-24</td>\n",
       "      <td>Delhi</td>\n",
       "      <td>Cochin</td>\n",
       "      <td>07:55:00</td>\n",
       "      <td>13:25:00</td>\n",
       "      <td>330</td>\n",
       "      <td>1.0</td>\n",
       "      <td>No Info</td>\n",
       "    </tr>\n",
       "    <tr>\n",
       "      <th>6694</th>\n",
       "      <td>Air India</td>\n",
       "      <td>2019-03-01</td>\n",
       "      <td>Banglore</td>\n",
       "      <td>New Delhi</td>\n",
       "      <td>11:50:00</td>\n",
       "      <td>08:55:00</td>\n",
       "      <td>1265</td>\n",
       "      <td>1.0</td>\n",
       "      <td>1 Long layover</td>\n",
       "    </tr>\n",
       "  </tbody>\n",
       "</table>\n",
       "<p>6695 rows × 9 columns</p>\n",
       "</div>"
      ],
      "text/plain": [
       "          airline date_of_journey    source destination  dep_time  \\\n",
       "0     Jet Airways      2019-03-21  Banglore   New Delhi  08:55:00   \n",
       "1     Jet Airways      2019-03-27     Delhi      Cochin  17:30:00   \n",
       "2           Goair      2019-03-09  Banglore   New Delhi  11:40:00   \n",
       "3       Air India      2019-06-12   Kolkata    Banglore  09:25:00   \n",
       "4     Jet Airways      2019-03-12  Banglore   New Delhi  22:55:00   \n",
       "...           ...             ...       ...         ...       ...   \n",
       "6690  Jet Airways      2019-03-21     Delhi      Cochin  10:45:00   \n",
       "6691    Air India      2019-05-01   Kolkata    Banglore  09:25:00   \n",
       "6692  Jet Airways      2019-06-01     Delhi      Cochin  14:00:00   \n",
       "6693     Air Asia      2019-06-24     Delhi      Cochin  07:55:00   \n",
       "6694    Air India      2019-03-01  Banglore   New Delhi  11:50:00   \n",
       "\n",
       "     arrival_time  duration  total_stops              additional_info  \n",
       "0        19:10:00       615          1.0  In-flight meal not included  \n",
       "1        04:25:00       655          1.0  In-flight meal not included  \n",
       "2        14:35:00       175          0.0                      No Info  \n",
       "3        18:30:00       545          1.0                      No Info  \n",
       "4        07:40:00       525          1.0  In-flight meal not included  \n",
       "...           ...       ...          ...                          ...  \n",
       "6690     18:50:00      1925          2.0                      No Info  \n",
       "6691     18:30:00       545          1.0                      No Info  \n",
       "6692     19:00:00       300          1.0  In-flight meal not included  \n",
       "6693     13:25:00       330          1.0                      No Info  \n",
       "6694     08:55:00      1265          1.0               1 Long layover  \n",
       "\n",
       "[6695 rows x 9 columns]"
      ]
     },
     "execution_count": 8,
     "metadata": {},
     "output_type": "execute_result"
    }
   ],
   "source": [
    "X_train"
   ]
  },
  {
   "cell_type": "code",
   "execution_count": 9,
   "id": "87a36d1f-c2ad-498c-bce8-dfad5adb363c",
   "metadata": {},
   "outputs": [
    {
     "data": {
      "text/plain": [
       "0        7832\n",
       "1        6540\n",
       "2        7305\n",
       "3        8366\n",
       "4       11087\n",
       "        ...  \n",
       "6690    11093\n",
       "6691     8891\n",
       "6692    10262\n",
       "6693     6152\n",
       "6694    14594\n",
       "Name: price, Length: 6695, dtype: int64"
      ]
     },
     "execution_count": 9,
     "metadata": {},
     "output_type": "execute_result"
    }
   ],
   "source": [
    "y_train"
   ]
  },
  {
   "cell_type": "code",
   "execution_count": 10,
   "id": "6d31d299-c5e8-49fb-95b7-6bd58b440a0e",
   "metadata": {},
   "outputs": [
    {
     "name": "stdout",
     "output_type": "stream",
     "text": [
      "(1674, 9) (1674,)\n"
     ]
    }
   ],
   "source": [
    "X_val, y_val = split_data(val_df)\n",
    "\n",
    "print(X_val.shape, y_val.shape)"
   ]
  },
  {
   "cell_type": "code",
   "execution_count": 11,
   "id": "1a3fd379-26e0-46cc-a3f5-37f2ed9d4371",
   "metadata": {},
   "outputs": [
    {
     "name": "stdout",
     "output_type": "stream",
     "text": [
      "(2093, 9) (2093,)\n"
     ]
    }
   ],
   "source": [
    "X_test, y_test = split_data(test_df)\n",
    "\n",
    "print(X_test.shape, y_test.shape)"
   ]
  },
  {
   "cell_type": "markdown",
   "id": "20ea229e-a94b-4585-abc0-994bce54d785",
   "metadata": {},
   "source": [
    "### 3.2 Meta-info"
   ]
  },
  {
   "cell_type": "code",
   "execution_count": 12,
   "id": "2bb6d88a-b8fb-471b-afc1-b84f79716a7c",
   "metadata": {},
   "outputs": [
    {
     "name": "stdout",
     "output_type": "stream",
     "text": [
      "<class 'pandas.core.frame.DataFrame'>\n",
      "RangeIndex: 6695 entries, 0 to 6694\n",
      "Data columns (total 9 columns):\n",
      " #   Column           Non-Null Count  Dtype  \n",
      "---  ------           --------------  -----  \n",
      " 0   airline          6695 non-null   object \n",
      " 1   date_of_journey  6695 non-null   object \n",
      " 2   source           6695 non-null   object \n",
      " 3   destination      6695 non-null   object \n",
      " 4   dep_time         6695 non-null   object \n",
      " 5   arrival_time     6695 non-null   object \n",
      " 6   duration         6695 non-null   int64  \n",
      " 7   total_stops      6694 non-null   float64\n",
      " 8   additional_info  6695 non-null   object \n",
      "dtypes: float64(1), int64(1), object(7)\n",
      "memory usage: 470.9+ KB\n"
     ]
    }
   ],
   "source": [
    "X_train.info()"
   ]
  },
  {
   "cell_type": "markdown",
   "id": "2370446d-763c-4fed-adec-f1ab56303b76",
   "metadata": {},
   "source": [
    "## 4. Data Preprocessing"
   ]
  },
  {
   "cell_type": "code",
   "execution_count": 13,
   "id": "843ca079-e59c-41f0-a3df-144f62b34798",
   "metadata": {},
   "outputs": [],
   "source": [
    "dt_cols = [\"date_of_journey\", \"dep_time\", \"arrival_time\"]\n",
    "\n",
    "num_cols = [\"duration\", \"total_stops\"]\n",
    "\n",
    "cat_cols = [col for col in X_train.columns if (col not in dt_cols) and (col not in num_cols)]"
   ]
  },
  {
   "cell_type": "code",
   "execution_count": 14,
   "id": "4d07da86-155a-401a-8a52-2829f649d654",
   "metadata": {},
   "outputs": [
    {
     "data": {
      "text/plain": [
       "['airline', 'source', 'destination', 'additional_info']"
      ]
     },
     "execution_count": 14,
     "metadata": {},
     "output_type": "execute_result"
    }
   ],
   "source": [
    "cat_cols"
   ]
  },
  {
   "cell_type": "code",
   "execution_count": 15,
   "id": "7264ac90-d7fd-4c49-973c-0beb54e44864",
   "metadata": {},
   "outputs": [],
   "source": [
    "num_transformer = Pipeline(steps=[\n",
    "\t(\"imputer\", SimpleImputer(strategy=\"median\")),\n",
    "\t(\"scaler\", StandardScaler())\n",
    "])\n",
    "\n",
    "cat_transformer = Pipeline(steps=[\n",
    "\t(\"imputer\", SimpleImputer(strategy=\"most_frequent\")),\n",
    "\t(\"encoder\", OneHotEncoder(sparse_output=False, handle_unknown=\"ignore\"))\n",
    "])\n",
    "\n",
    "doj_transformer = Pipeline(steps=[\n",
    "\t(\"imputer\", SimpleImputer(strategy=\"most_frequent\")),\n",
    "\t(\"extractor\", DatetimeFeatures(features_to_extract=[\"month\", \"week\", \"day_of_week\", \"day_of_month\"])),\n",
    "\t(\"scaler\", StandardScaler())\n",
    "])\n",
    "\n",
    "time_transformer = Pipeline(steps=[\n",
    "\t(\"imputer\", SimpleImputer(strategy=\"most_frequent\")),\n",
    "\t(\"extractor\", DatetimeFeatures(features_to_extract=[\"hour\", \"minute\"])),\n",
    "\t(\"scaler\", StandardScaler())\n",
    "])"
   ]
  },
  {
   "cell_type": "code",
   "execution_count": 16,
   "id": "e3b2f53c-a9d2-4e8f-9e66-656cc3b73774",
   "metadata": {},
   "outputs": [],
   "source": [
    "preprocessor = ColumnTransformer(transformers=[\n",
    "\t(\"num\", num_transformer, num_cols),\n",
    "\t(\"cat\", cat_transformer, cat_cols),\n",
    "\t(\"doj\", doj_transformer, [\"date_of_journey\"]),\n",
    "\t(\"time\", time_transformer, [\"dep_time\", \"arrival_time\"])\n",
    "])"
   ]
  },
  {
   "cell_type": "code",
   "execution_count": 17,
   "id": "6c0e7d4a-101d-4632-ad5b-c545fc03cb6b",
   "metadata": {},
   "outputs": [
    {
     "data": {
      "text/plain": [
       "array([[-3.67600796e-02,  3.00930116e-01,  0.00000000e+00, ...,\n",
       "         1.62980523e+00,  8.24324352e-01, -9.03952976e-01],\n",
       "       [ 4.27677252e-02,  3.00930116e-01,  0.00000000e+00, ...,\n",
       "         3.00523012e-01, -1.36297644e+00,  1.03633329e-03],\n",
       "       [-9.11565931e-01, -1.21504214e+00,  0.00000000e+00, ...,\n",
       "         8.32235901e-01,  9.52240883e-02,  6.04362540e-01],\n",
       "       ...,\n",
       "       [-6.63041542e-01,  3.00930116e-01,  0.00000000e+00, ...,\n",
       "        -1.29461565e+00,  8.24324352e-01, -1.50727918e+00],\n",
       "       [-6.03395688e-01,  3.00930116e-01,  1.00000000e+00, ...,\n",
       "         1.62980523e+00, -5.05959645e-02,  1.03633329e-03],\n",
       "       [ 1.25556675e+00,  3.00930116e-01,  0.00000000e+00, ...,\n",
       "         1.36394879e+00, -7.79696229e-01,  1.81101495e+00]])"
      ]
     },
     "execution_count": 17,
     "metadata": {},
     "output_type": "execute_result"
    }
   ],
   "source": [
    "preprocessor.fit_transform(X_train)"
   ]
  },
  {
   "cell_type": "code",
   "execution_count": 18,
   "id": "e575b7af-8d78-494c-860c-92c66900d85f",
   "metadata": {},
   "outputs": [
    {
     "data": {
      "text/plain": [
       "(6695, 40)"
      ]
     },
     "execution_count": 18,
     "metadata": {},
     "output_type": "execute_result"
    }
   ],
   "source": [
    "preprocessor.fit_transform(X_train).shape"
   ]
  },
  {
   "cell_type": "code",
   "execution_count": 19,
   "id": "fa537c38",
   "metadata": {},
   "outputs": [
    {
     "data": {
      "text/html": [
       "<div>\n",
       "<style scoped>\n",
       "    .dataframe tbody tr th:only-of-type {\n",
       "        vertical-align: middle;\n",
       "    }\n",
       "\n",
       "    .dataframe tbody tr th {\n",
       "        vertical-align: top;\n",
       "    }\n",
       "\n",
       "    .dataframe thead th {\n",
       "        text-align: right;\n",
       "    }\n",
       "</style>\n",
       "<table border=\"1\" class=\"dataframe\">\n",
       "  <thead>\n",
       "    <tr style=\"text-align: right;\">\n",
       "      <th></th>\n",
       "      <th>airline</th>\n",
       "      <th>date_of_journey</th>\n",
       "      <th>source</th>\n",
       "      <th>destination</th>\n",
       "      <th>dep_time</th>\n",
       "      <th>arrival_time</th>\n",
       "      <th>duration</th>\n",
       "      <th>total_stops</th>\n",
       "      <th>additional_info</th>\n",
       "    </tr>\n",
       "  </thead>\n",
       "  <tbody>\n",
       "    <tr>\n",
       "      <th>0</th>\n",
       "      <td>Jet Airways</td>\n",
       "      <td>2019-03-21</td>\n",
       "      <td>Banglore</td>\n",
       "      <td>New Delhi</td>\n",
       "      <td>08:55:00</td>\n",
       "      <td>19:10:00</td>\n",
       "      <td>615</td>\n",
       "      <td>1.0</td>\n",
       "      <td>In-flight meal not included</td>\n",
       "    </tr>\n",
       "    <tr>\n",
       "      <th>1</th>\n",
       "      <td>Jet Airways</td>\n",
       "      <td>2019-03-27</td>\n",
       "      <td>Delhi</td>\n",
       "      <td>Cochin</td>\n",
       "      <td>17:30:00</td>\n",
       "      <td>04:25:00</td>\n",
       "      <td>655</td>\n",
       "      <td>1.0</td>\n",
       "      <td>In-flight meal not included</td>\n",
       "    </tr>\n",
       "    <tr>\n",
       "      <th>2</th>\n",
       "      <td>Goair</td>\n",
       "      <td>2019-03-09</td>\n",
       "      <td>Banglore</td>\n",
       "      <td>New Delhi</td>\n",
       "      <td>11:40:00</td>\n",
       "      <td>14:35:00</td>\n",
       "      <td>175</td>\n",
       "      <td>0.0</td>\n",
       "      <td>No Info</td>\n",
       "    </tr>\n",
       "    <tr>\n",
       "      <th>3</th>\n",
       "      <td>Air India</td>\n",
       "      <td>2019-06-12</td>\n",
       "      <td>Kolkata</td>\n",
       "      <td>Banglore</td>\n",
       "      <td>09:25:00</td>\n",
       "      <td>18:30:00</td>\n",
       "      <td>545</td>\n",
       "      <td>1.0</td>\n",
       "      <td>No Info</td>\n",
       "    </tr>\n",
       "    <tr>\n",
       "      <th>4</th>\n",
       "      <td>Jet Airways</td>\n",
       "      <td>2019-03-12</td>\n",
       "      <td>Banglore</td>\n",
       "      <td>New Delhi</td>\n",
       "      <td>22:55:00</td>\n",
       "      <td>07:40:00</td>\n",
       "      <td>525</td>\n",
       "      <td>1.0</td>\n",
       "      <td>In-flight meal not included</td>\n",
       "    </tr>\n",
       "    <tr>\n",
       "      <th>...</th>\n",
       "      <td>...</td>\n",
       "      <td>...</td>\n",
       "      <td>...</td>\n",
       "      <td>...</td>\n",
       "      <td>...</td>\n",
       "      <td>...</td>\n",
       "      <td>...</td>\n",
       "      <td>...</td>\n",
       "      <td>...</td>\n",
       "    </tr>\n",
       "    <tr>\n",
       "      <th>6690</th>\n",
       "      <td>Jet Airways</td>\n",
       "      <td>2019-03-21</td>\n",
       "      <td>Delhi</td>\n",
       "      <td>Cochin</td>\n",
       "      <td>10:45:00</td>\n",
       "      <td>18:50:00</td>\n",
       "      <td>1925</td>\n",
       "      <td>2.0</td>\n",
       "      <td>No Info</td>\n",
       "    </tr>\n",
       "    <tr>\n",
       "      <th>6691</th>\n",
       "      <td>Air India</td>\n",
       "      <td>2019-05-01</td>\n",
       "      <td>Kolkata</td>\n",
       "      <td>Banglore</td>\n",
       "      <td>09:25:00</td>\n",
       "      <td>18:30:00</td>\n",
       "      <td>545</td>\n",
       "      <td>1.0</td>\n",
       "      <td>No Info</td>\n",
       "    </tr>\n",
       "    <tr>\n",
       "      <th>6692</th>\n",
       "      <td>Jet Airways</td>\n",
       "      <td>2019-06-01</td>\n",
       "      <td>Delhi</td>\n",
       "      <td>Cochin</td>\n",
       "      <td>14:00:00</td>\n",
       "      <td>19:00:00</td>\n",
       "      <td>300</td>\n",
       "      <td>1.0</td>\n",
       "      <td>In-flight meal not included</td>\n",
       "    </tr>\n",
       "    <tr>\n",
       "      <th>6693</th>\n",
       "      <td>Air Asia</td>\n",
       "      <td>2019-06-24</td>\n",
       "      <td>Delhi</td>\n",
       "      <td>Cochin</td>\n",
       "      <td>07:55:00</td>\n",
       "      <td>13:25:00</td>\n",
       "      <td>330</td>\n",
       "      <td>1.0</td>\n",
       "      <td>No Info</td>\n",
       "    </tr>\n",
       "    <tr>\n",
       "      <th>6694</th>\n",
       "      <td>Air India</td>\n",
       "      <td>2019-03-01</td>\n",
       "      <td>Banglore</td>\n",
       "      <td>New Delhi</td>\n",
       "      <td>11:50:00</td>\n",
       "      <td>08:55:00</td>\n",
       "      <td>1265</td>\n",
       "      <td>1.0</td>\n",
       "      <td>1 Long layover</td>\n",
       "    </tr>\n",
       "  </tbody>\n",
       "</table>\n",
       "<p>6695 rows × 9 columns</p>\n",
       "</div>"
      ],
      "text/plain": [
       "          airline date_of_journey    source destination  dep_time  \\\n",
       "0     Jet Airways      2019-03-21  Banglore   New Delhi  08:55:00   \n",
       "1     Jet Airways      2019-03-27     Delhi      Cochin  17:30:00   \n",
       "2           Goair      2019-03-09  Banglore   New Delhi  11:40:00   \n",
       "3       Air India      2019-06-12   Kolkata    Banglore  09:25:00   \n",
       "4     Jet Airways      2019-03-12  Banglore   New Delhi  22:55:00   \n",
       "...           ...             ...       ...         ...       ...   \n",
       "6690  Jet Airways      2019-03-21     Delhi      Cochin  10:45:00   \n",
       "6691    Air India      2019-05-01   Kolkata    Banglore  09:25:00   \n",
       "6692  Jet Airways      2019-06-01     Delhi      Cochin  14:00:00   \n",
       "6693     Air Asia      2019-06-24     Delhi      Cochin  07:55:00   \n",
       "6694    Air India      2019-03-01  Banglore   New Delhi  11:50:00   \n",
       "\n",
       "     arrival_time  duration  total_stops              additional_info  \n",
       "0        19:10:00       615          1.0  In-flight meal not included  \n",
       "1        04:25:00       655          1.0  In-flight meal not included  \n",
       "2        14:35:00       175          0.0                      No Info  \n",
       "3        18:30:00       545          1.0                      No Info  \n",
       "4        07:40:00       525          1.0  In-flight meal not included  \n",
       "...           ...       ...          ...                          ...  \n",
       "6690     18:50:00      1925          2.0                      No Info  \n",
       "6691     18:30:00       545          1.0                      No Info  \n",
       "6692     19:00:00       300          1.0  In-flight meal not included  \n",
       "6693     13:25:00       330          1.0                      No Info  \n",
       "6694     08:55:00      1265          1.0               1 Long layover  \n",
       "\n",
       "[6695 rows x 9 columns]"
      ]
     },
     "execution_count": 19,
     "metadata": {},
     "output_type": "execute_result"
    }
   ],
   "source": [
    "X_train"
   ]
  },
  {
   "cell_type": "markdown",
   "id": "f4ae7970-8591-4851-bdfb-df117e1413db",
   "metadata": {},
   "source": [
    "## 5. Model Selection"
   ]
  },
  {
   "cell_type": "code",
   "execution_count": 20,
   "id": "ded50a1a-af5c-4a67-9b1f-2f79042ee2db",
   "metadata": {},
   "outputs": [],
   "source": [
    "algorithms = {\n",
    "\t\"Linear Regression\": LinearRegression(),\n",
    "\t\"Support Vector Machine\": SVR(),\n",
    "\t\"Random Forest\": RandomForestRegressor(n_estimators=10),\n",
    "\t\"XG Boost\": XGBRegressor(n_estimators=10)\n",
    "}"
   ]
  },
  {
   "cell_type": "code",
   "execution_count": 21,
   "id": "7cb950c7-7145-4a1e-900c-fc970e4422ff",
   "metadata": {},
   "outputs": [
    {
     "name": "stdout",
     "output_type": "stream",
     "text": [
      "(8369, 9) (8369,)\n"
     ]
    }
   ],
   "source": [
    "data = pd.concat([train_df, val_df], axis=0)\n",
    "\n",
    "X_data, y_data = split_data(data)\n",
    "print(X_data.shape, y_data.shape)"
   ]
  },
  {
   "cell_type": "code",
   "execution_count": 22,
   "id": "0197c2d6-786a-405b-8101-960ad3fc3bcb",
   "metadata": {},
   "outputs": [],
   "source": [
    "def plot_curves(sizes, mean_scores, std_scores, label, ax):\n",
    "\tax.plot(\n",
    "\t\tsizes,\n",
    "\t\tmean_scores,\n",
    "\t\tmarker=\"o\",\n",
    "\t\tlabel=label\n",
    "\t)\n",
    "\n",
    "\tax.fill_between(\n",
    "\t\tx=sizes,\n",
    "\t\ty1=mean_scores - std_scores,\n",
    "\t\ty2=mean_scores + std_scores,\n",
    "\t\talpha=0.5\n",
    "\t)"
   ]
  },
  {
   "cell_type": "code",
   "execution_count": 23,
   "id": "c47f6bc5-7a3c-44bd-bad2-c0de1f159469",
   "metadata": {},
   "outputs": [],
   "source": [
    "def plot_learning_curves(name, algorithm, figsize=(12, 4)):\n",
    "\tmodel = Pipeline(steps=[\n",
    "\t\t(\"pre\", preprocessor),\n",
    "\t\t(\"alg\", algorithm)\n",
    "\t])\n",
    "\n",
    "\ttrain_sizes, train_scores, test_scores = learning_curve(\n",
    "\t\testimator=model,\n",
    "\t\tX=X_data,\n",
    "\t\ty=y_data,\n",
    "\t\tcv=10,\n",
    "\t\tscoring=\"r2\",\n",
    "\t\tn_jobs=-1,\n",
    "\t\trandom_state=42\n",
    "\t)\n",
    "\t\n",
    "\tmean_train_scores = np.mean(train_scores, axis=1)\n",
    "\tstd_train_scores = np.std(train_scores, axis=1)\n",
    "\ttrain_score = f\"{mean_train_scores[-1]:.2f} +/- {std_train_scores[-1]:.2f}\"\n",
    "\n",
    "\tmean_test_scores = np.mean(test_scores, axis=1)\n",
    "\tstd_test_scores = np.std(test_scores, axis=1)\n",
    "\ttest_score = f\"{mean_test_scores[-1]:.2f} +/- {std_test_scores[-1]:.2f}\"\n",
    "\n",
    "\tfig, ax = plt.subplots(figsize=figsize)\n",
    "\n",
    "\t# training curve\n",
    "\tplot_curves(\n",
    "\t\ttrain_sizes,\n",
    "\t\tmean_train_scores,\n",
    "\t\tstd_train_scores,\n",
    "\t\tf\"Train ({train_score})\",\n",
    "\t\tax\n",
    "\t)\n",
    "\n",
    "\t# test curve\n",
    "\tplot_curves(\n",
    "\t\ttrain_sizes,\n",
    "\t\tmean_test_scores,\n",
    "\t\tstd_test_scores,\n",
    "\t\tf\"Test ({test_score})\",\n",
    "\t\tax\n",
    "\t)\n",
    "\n",
    "\tax.set(xlabel=\"Training Set Size\", ylabel=\"R-square\", title=name)\n",
    "\n",
    "\tax.legend(loc=\"lower right\")\n",
    "\n",
    "\tplt.show()"
   ]
  },
  {
   "cell_type": "code",
   "execution_count": 24,
   "id": "81ed69b1-52cc-4860-92b6-1e59148b15c2",
   "metadata": {},
   "outputs": [
    {
     "data": {
      "image/png": "[encoded data removed]",
      "text/plain": [
       "<Figure size 1200x400 with 1 Axes>"
      ]
     },
     "metadata": {},
     "output_type": "display_data"
    },
    {
     "data": {
      "image/png": "[encoded data removed]",
      "text/plain": [
       "<Figure size 1200x400 with 1 Axes>"
      ]
     },
     "metadata": {},
     "output_type": "display_data"
    },
    {
     "data": {
      "image/png": "[encoded data removed]",
      "text/plain": [
       "<Figure size 1200x400 with 1 Axes>"
      ]
     },
     "metadata": {},
     "output_type": "display_data"
    },
    {
     "data": {
      "image/png": "[encoded data removed]",
      "text/plain": [
       "<Figure size 1200x400 with 1 Axes>"
      ]
     },
     "metadata": {},
     "output_type": "display_data"
    }
   ],
   "source": [
    "for name, alg in algorithms.items():\n",
    "\tplot_learning_curves(name, alg)"
   ]
  },
  {
   "cell_type": "markdown",
   "id": "c6123a5d-1577-4147-a8ed-bf1e24d0f227",
   "metadata": {},
   "source": [
    "## 6. Model Training"
   ]
  },
  {
   "cell_type": "code",
   "execution_count": 25,
   "id": "bcfb914b-53ad-4351-8619-88eaa2a37ff4",
   "metadata": {},
   "outputs": [],
   "source": [
    "model = Pipeline(steps=[\n",
    "\t(\"pre\", preprocessor),\n",
    "\t(\"rf\", RandomForestRegressor(n_estimators=10))\n",
    "])"
   ]
  },
  {
   "cell_type": "markdown",
   "id": "170963e4-8425-492b-81ea-59b83f537e6e",
   "metadata": {},
   "source": [
    "## 7. Model Evaluation"
   ]
  },
  {
   "cell_type": "code",
   "execution_count": 26,
   "id": "3fddda3d-efd4-4418-b7ca-d8327604a688",
   "metadata": {},
   "outputs": [
    {
     "data": {
      "text/html": [
       "<style>#sk-container-id-1 {color: black;background-color: white;}#sk-container-id-1 pre{padding: 0;}#sk-container-id-1 div.sk-toggleable {background-color: white;}#sk-container-id-1 label.sk-toggleable__label {cursor: pointer;display: block;width: 100%;margin-bottom: 0;padding: 0.3em;box-sizing: border-box;text-align: center;}#sk-container-id-1 label.sk-toggleable__label-arrow:before {content: \"▸\";float: left;margin-right: 0.25em;color: #696969;}#sk-container-id-1 label.sk-toggleable__label-arrow:hover:before {color: black;}#sk-container-id-1 div.sk-estimator:hover label.sk-toggleable__label-arrow:before {color: black;}#sk-container-id-1 div.sk-toggleable__content {max-height: 0;max-width: 0;overflow: hidden;text-align: left;background-color: #f0f8ff;}#sk-container-id-1 div.sk-toggleable__content pre {margin: 0.2em;color: black;border-radius: 0.25em;background-color: #f0f8ff;}#sk-container-id-1 input.sk-toggleable__control:checked~div.sk-toggleable__content {max-height: 200px;max-width: 100%;overflow: auto;}#sk-container-id-1 input.sk-toggleable__control:checked~label.sk-toggleable__label-arrow:before {content: \"▾\";}#sk-container-id-1 div.sk-estimator input.sk-toggleable__control:checked~label.sk-toggleable__label {background-color: #d4ebff;}#sk-container-id-1 div.sk-label input.sk-toggleable__control:checked~label.sk-toggleable__label {background-color: #d4ebff;}#sk-container-id-1 input.sk-hidden--visually {border: 0;clip: rect(1px 1px 1px 1px);clip: rect(1px, 1px, 1px, 1px);height: 1px;margin: -1px;overflow: hidden;padding: 0;position: absolute;width: 1px;}#sk-container-id-1 div.sk-estimator {font-family: monospace;background-color: #f0f8ff;border: 1px dotted black;border-radius: 0.25em;box-sizing: border-box;margin-bottom: 0.5em;}#sk-container-id-1 div.sk-estimator:hover {background-color: #d4ebff;}#sk-container-id-1 div.sk-parallel-item::after {content: \"\";width: 100%;border-bottom: 1px solid gray;flex-grow: 1;}#sk-container-id-1 div.sk-label:hover label.sk-toggleable__label {background-color: #d4ebff;}#sk-container-id-1 div.sk-serial::before {content: \"\";position: absolute;border-left: 1px solid gray;box-sizing: border-box;top: 0;bottom: 0;left: 50%;z-index: 0;}#sk-container-id-1 div.sk-serial {display: flex;flex-direction: column;align-items: center;background-color: white;padding-right: 0.2em;padding-left: 0.2em;position: relative;}#sk-container-id-1 div.sk-item {position: relative;z-index: 1;}#sk-container-id-1 div.sk-parallel {display: flex;align-items: stretch;justify-content: center;background-color: white;position: relative;}#sk-container-id-1 div.sk-item::before, #sk-container-id-1 div.sk-parallel-item::before {content: \"\";position: absolute;border-left: 1px solid gray;box-sizing: border-box;top: 0;bottom: 0;left: 50%;z-index: -1;}#sk-container-id-1 div.sk-parallel-item {display: flex;flex-direction: column;z-index: 1;position: relative;background-color: white;}#sk-container-id-1 div.sk-parallel-item:first-child::after {align-self: flex-end;width: 50%;}#sk-container-id-1 div.sk-parallel-item:last-child::after {align-self: flex-start;width: 50%;}#sk-container-id-1 div.sk-parallel-item:only-child::after {width: 0;}#sk-container-id-1 div.sk-dashed-wrapped {border: 1px dashed gray;margin: 0 0.4em 0.5em 0.4em;box-sizing: border-box;padding-bottom: 0.4em;background-color: white;}#sk-container-id-1 div.sk-label label {font-family: monospace;font-weight: bold;display: inline-block;line-height: 1.2em;}#sk-container-id-1 div.sk-label-container {text-align: center;}#sk-container-id-1 div.sk-container {/* jupyter's `normalize.less` sets `[hidden] { display: none; }` but bootstrap.min.css set `[hidden] { display: none !important; }` so we also need the `!important` here to be able to override the default hidden behavior on the sphinx rendered scikit-learn.org. See: https://github.com/scikit-learn/scikit-learn/issues/21755 */display: inline-block !important;position: relative;}#sk-container-id-1 div.sk-text-repr-fallback {display: none;}</style><div id=\"sk-container-id-1\" class=\"sk-top-container\"><div class=\"sk-text-repr-fallback\"><pre>Pipeline(steps=[(&#x27;pre&#x27;,\n",
       "                 ColumnTransformer(transformers=[(&#x27;num&#x27;,\n",
       "                                                  Pipeline(steps=[(&#x27;imputer&#x27;,\n",
       "                                                                   SimpleImputer(strategy=&#x27;median&#x27;)),\n",
       "                                                                  (&#x27;scaler&#x27;,\n",
       "                                                                   StandardScaler())]),\n",
       "                                                  [&#x27;duration&#x27;, &#x27;total_stops&#x27;]),\n",
       "                                                 (&#x27;cat&#x27;,\n",
       "                                                  Pipeline(steps=[(&#x27;imputer&#x27;,\n",
       "                                                                   SimpleImputer(strategy=&#x27;most_frequent&#x27;)),\n",
       "                                                                  (&#x27;encoder&#x27;,\n",
       "                                                                   OneHotEncoder(handle_unknown=&#x27;ignore&#x27;,\n",
       "                                                                                 sparse_output=False))]),\n",
       "                                                  [&#x27;airline&#x27;, &#x27;source&#x27;,\n",
       "                                                   &#x27;...\n",
       "                                                                   DatetimeFeatures(features_to_extract=[&#x27;month&#x27;,\n",
       "                                                                                                         &#x27;week&#x27;,\n",
       "                                                                                                         &#x27;day_of_week&#x27;,\n",
       "                                                                                                         &#x27;day_of_month&#x27;])),\n",
       "                                                                  (&#x27;scaler&#x27;,\n",
       "                                                                   StandardScaler())]),\n",
       "                                                  [&#x27;date_of_journey&#x27;]),\n",
       "                                                 (&#x27;time&#x27;,\n",
       "                                                  Pipeline(steps=[(&#x27;imputer&#x27;,\n",
       "                                                                   SimpleImputer(strategy=&#x27;most_frequent&#x27;)),\n",
       "                                                                  (&#x27;extractor&#x27;,\n",
       "                                                                   DatetimeFeatures(features_to_extract=[&#x27;hour&#x27;,\n",
       "                                                                                                         &#x27;minute&#x27;])),\n",
       "                                                                  (&#x27;scaler&#x27;,\n",
       "                                                                   StandardScaler())]),\n",
       "                                                  [&#x27;dep_time&#x27;,\n",
       "                                                   &#x27;arrival_time&#x27;])])),\n",
       "                (&#x27;rf&#x27;, RandomForestRegressor(n_estimators=10))])</pre><b>In a Jupyter environment, please rerun this cell to show the HTML representation or trust the notebook. <br />On GitHub, the HTML representation is unable to render, please try loading this page with nbviewer.org.</b></div><div class=\"sk-container\" hidden><div class=\"sk-item sk-dashed-wrapped\"><div class=\"sk-label-container\"><div class=\"sk-label sk-toggleable\"><input class=\"sk-toggleable__control sk-hidden--visually\" id=\"sk-estimator-id-1\" type=\"checkbox\" ><label for=\"sk-estimator-id-1\" class=\"sk-toggleable__label sk-toggleable__label-arrow\">Pipeline</label><div class=\"sk-toggleable__content\"><pre>Pipeline(steps=[(&#x27;pre&#x27;,\n",
       "                 ColumnTransformer(transformers=[(&#x27;num&#x27;,\n",
       "                                                  Pipeline(steps=[(&#x27;imputer&#x27;,\n",
       "                                                                   SimpleImputer(strategy=&#x27;median&#x27;)),\n",
       "                                                                  (&#x27;scaler&#x27;,\n",
       "                                                                   StandardScaler())]),\n",
       "                                                  [&#x27;duration&#x27;, &#x27;total_stops&#x27;]),\n",
       "                                                 (&#x27;cat&#x27;,\n",
       "                                                  Pipeline(steps=[(&#x27;imputer&#x27;,\n",
       "                                                                   SimpleImputer(strategy=&#x27;most_frequent&#x27;)),\n",
       "                                                                  (&#x27;encoder&#x27;,\n",
       "                                                                   OneHotEncoder(handle_unknown=&#x27;ignore&#x27;,\n",
       "                                                                                 sparse_output=False))]),\n",
       "                                                  [&#x27;airline&#x27;, &#x27;source&#x27;,\n",
       "                                                   &#x27;...\n",
       "                                                                   DatetimeFeatures(features_to_extract=[&#x27;month&#x27;,\n",
       "                                                                                                         &#x27;week&#x27;,\n",
       "                                                                                                         &#x27;day_of_week&#x27;,\n",
       "                                                                                                         &#x27;day_of_month&#x27;])),\n",
       "                                                                  (&#x27;scaler&#x27;,\n",
       "                                                                   StandardScaler())]),\n",
       "                                                  [&#x27;date_of_journey&#x27;]),\n",
       "                                                 (&#x27;time&#x27;,\n",
       "                                                  Pipeline(steps=[(&#x27;imputer&#x27;,\n",
       "                                                                   SimpleImputer(strategy=&#x27;most_frequent&#x27;)),\n",
       "                                                                  (&#x27;extractor&#x27;,\n",
       "                                                                   DatetimeFeatures(features_to_extract=[&#x27;hour&#x27;,\n",
       "                                                                                                         &#x27;minute&#x27;])),\n",
       "                                                                  (&#x27;scaler&#x27;,\n",
       "                                                                   StandardScaler())]),\n",
       "                                                  [&#x27;dep_time&#x27;,\n",
       "                                                   &#x27;arrival_time&#x27;])])),\n",
       "                (&#x27;rf&#x27;, RandomForestRegressor(n_estimators=10))])</pre></div></div></div><div class=\"sk-serial\"><div class=\"sk-item sk-dashed-wrapped\"><div class=\"sk-label-container\"><div class=\"sk-label sk-toggleable\"><input class=\"sk-toggleable__control sk-hidden--visually\" id=\"sk-estimator-id-2\" type=\"checkbox\" ><label for=\"sk-estimator-id-2\" class=\"sk-toggleable__label sk-toggleable__label-arrow\">pre: ColumnTransformer</label><div class=\"sk-toggleable__content\"><pre>ColumnTransformer(transformers=[(&#x27;num&#x27;,\n",
       "                                 Pipeline(steps=[(&#x27;imputer&#x27;,\n",
       "                                                  SimpleImputer(strategy=&#x27;median&#x27;)),\n",
       "                                                 (&#x27;scaler&#x27;, StandardScaler())]),\n",
       "                                 [&#x27;duration&#x27;, &#x27;total_stops&#x27;]),\n",
       "                                (&#x27;cat&#x27;,\n",
       "                                 Pipeline(steps=[(&#x27;imputer&#x27;,\n",
       "                                                  SimpleImputer(strategy=&#x27;most_frequent&#x27;)),\n",
       "                                                 (&#x27;encoder&#x27;,\n",
       "                                                  OneHotEncoder(handle_unknown=&#x27;ignore&#x27;,\n",
       "                                                                sparse_output=False))]),\n",
       "                                 [&#x27;airline&#x27;, &#x27;source&#x27;, &#x27;destination&#x27;,\n",
       "                                  &#x27;additiona...\n",
       "                                                 (&#x27;extractor&#x27;,\n",
       "                                                  DatetimeFeatures(features_to_extract=[&#x27;month&#x27;,\n",
       "                                                                                        &#x27;week&#x27;,\n",
       "                                                                                        &#x27;day_of_week&#x27;,\n",
       "                                                                                        &#x27;day_of_month&#x27;])),\n",
       "                                                 (&#x27;scaler&#x27;, StandardScaler())]),\n",
       "                                 [&#x27;date_of_journey&#x27;]),\n",
       "                                (&#x27;time&#x27;,\n",
       "                                 Pipeline(steps=[(&#x27;imputer&#x27;,\n",
       "                                                  SimpleImputer(strategy=&#x27;most_frequent&#x27;)),\n",
       "                                                 (&#x27;extractor&#x27;,\n",
       "                                                  DatetimeFeatures(features_to_extract=[&#x27;hour&#x27;,\n",
       "                                                                                        &#x27;minute&#x27;])),\n",
       "                                                 (&#x27;scaler&#x27;, StandardScaler())]),\n",
       "                                 [&#x27;dep_time&#x27;, &#x27;arrival_time&#x27;])])</pre></div></div></div><div class=\"sk-parallel\"><div class=\"sk-parallel-item\"><div class=\"sk-item\"><div class=\"sk-label-container\"><div class=\"sk-label sk-toggleable\"><input class=\"sk-toggleable__control sk-hidden--visually\" id=\"sk-estimator-id-3\" type=\"checkbox\" ><label for=\"sk-estimator-id-3\" class=\"sk-toggleable__label sk-toggleable__label-arrow\">num</label><div class=\"sk-toggleable__content\"><pre>[&#x27;duration&#x27;, &#x27;total_stops&#x27;]</pre></div></div></div><div class=\"sk-serial\"><div class=\"sk-item\"><div class=\"sk-serial\"><div class=\"sk-item\"><div class=\"sk-estimator sk-toggleable\"><input class=\"sk-toggleable__control sk-hidden--visually\" id=\"sk-estimator-id-4\" type=\"checkbox\" ><label for=\"sk-estimator-id-4\" class=\"sk-toggleable__label sk-toggleable__label-arrow\">SimpleImputer</label><div class=\"sk-toggleable__content\"><pre>SimpleImputer(strategy=&#x27;median&#x27;)</pre></div></div></div><div class=\"sk-item\"><div class=\"sk-estimator sk-toggleable\"><input class=\"sk-toggleable__control sk-hidden--visually\" id=\"sk-estimator-id-5\" type=\"checkbox\" ><label for=\"sk-estimator-id-5\" class=\"sk-toggleable__label sk-toggleable__label-arrow\">StandardScaler</label><div class=\"sk-toggleable__content\"><pre>StandardScaler()</pre></div></div></div></div></div></div></div></div><div class=\"sk-parallel-item\"><div class=\"sk-item\"><div class=\"sk-label-container\"><div class=\"sk-label sk-toggleable\"><input class=\"sk-toggleable__control sk-hidden--visually\" id=\"sk-estimator-id-6\" type=\"checkbox\" ><label for=\"sk-estimator-id-6\" class=\"sk-toggleable__label sk-toggleable__label-arrow\">cat</label><div class=\"sk-toggleable__content\"><pre>[&#x27;airline&#x27;, &#x27;source&#x27;, &#x27;destination&#x27;, &#x27;additional_info&#x27;]</pre></div></div></div><div class=\"sk-serial\"><div class=\"sk-item\"><div class=\"sk-serial\"><div class=\"sk-item\"><div class=\"sk-estimator sk-toggleable\"><input class=\"sk-toggleable__control sk-hidden--visually\" id=\"sk-estimator-id-7\" type=\"checkbox\" ><label for=\"sk-estimator-id-7\" class=\"sk-toggleable__label sk-toggleable__label-arrow\">SimpleImputer</label><div class=\"sk-toggleable__content\"><pre>SimpleImputer(strategy=&#x27;most_frequent&#x27;)</pre></div></div></div><div class=\"sk-item\"><div class=\"sk-estimator sk-toggleable\"><input class=\"sk-toggleable__control sk-hidden--visually\" id=\"sk-estimator-id-8\" type=\"checkbox\" ><label for=\"sk-estimator-id-8\" class=\"sk-toggleable__label sk-toggleable__label-arrow\">OneHotEncoder</label><div class=\"sk-toggleable__content\"><pre>OneHotEncoder(handle_unknown=&#x27;ignore&#x27;, sparse_output=False)</pre></div></div></div></div></div></div></div></div><div class=\"sk-parallel-item\"><div class=\"sk-item\"><div class=\"sk-label-container\"><div class=\"sk-label sk-toggleable\"><input class=\"sk-toggleable__control sk-hidden--visually\" id=\"sk-estimator-id-9\" type=\"checkbox\" ><label for=\"sk-estimator-id-9\" class=\"sk-toggleable__label sk-toggleable__label-arrow\">doj</label><div class=\"sk-toggleable__content\"><pre>[&#x27;date_of_journey&#x27;]</pre></div></div></div><div class=\"sk-serial\"><div class=\"sk-item\"><div class=\"sk-serial\"><div class=\"sk-item\"><div class=\"sk-estimator sk-toggleable\"><input class=\"sk-toggleable__control sk-hidden--visually\" id=\"sk-estimator-id-10\" type=\"checkbox\" ><label for=\"sk-estimator-id-10\" class=\"sk-toggleable__label sk-toggleable__label-arrow\">SimpleImputer</label><div class=\"sk-toggleable__content\"><pre>SimpleImputer(strategy=&#x27;most_frequent&#x27;)</pre></div></div></div><div class=\"sk-item\"><div class=\"sk-estimator sk-toggleable\"><input class=\"sk-toggleable__control sk-hidden--visually\" id=\"sk-estimator-id-11\" type=\"checkbox\" ><label for=\"sk-estimator-id-11\" class=\"sk-toggleable__label sk-toggleable__label-arrow\">DatetimeFeatures</label><div class=\"sk-toggleable__content\"><pre>DatetimeFeatures(features_to_extract=[&#x27;month&#x27;, &#x27;week&#x27;, &#x27;day_of_week&#x27;,\n",
       "                                      &#x27;day_of_month&#x27;])</pre></div></div></div><div class=\"sk-item\"><div class=\"sk-estimator sk-toggleable\"><input class=\"sk-toggleable__control sk-hidden--visually\" id=\"sk-estimator-id-12\" type=\"checkbox\" ><label for=\"sk-estimator-id-12\" class=\"sk-toggleable__label sk-toggleable__label-arrow\">StandardScaler</label><div class=\"sk-toggleable__content\"><pre>StandardScaler()</pre></div></div></div></div></div></div></div></div><div class=\"sk-parallel-item\"><div class=\"sk-item\"><div class=\"sk-label-container\"><div class=\"sk-label sk-toggleable\"><input class=\"sk-toggleable__control sk-hidden--visually\" id=\"sk-estimator-id-13\" type=\"checkbox\" ><label for=\"sk-estimator-id-13\" class=\"sk-toggleable__label sk-toggleable__label-arrow\">time</label><div class=\"sk-toggleable__content\"><pre>[&#x27;dep_time&#x27;, &#x27;arrival_time&#x27;]</pre></div></div></div><div class=\"sk-serial\"><div class=\"sk-item\"><div class=\"sk-serial\"><div class=\"sk-item\"><div class=\"sk-estimator sk-toggleable\"><input class=\"sk-toggleable__control sk-hidden--visually\" id=\"sk-estimator-id-14\" type=\"checkbox\" ><label for=\"sk-estimator-id-14\" class=\"sk-toggleable__label sk-toggleable__label-arrow\">SimpleImputer</label><div class=\"sk-toggleable__content\"><pre>SimpleImputer(strategy=&#x27;most_frequent&#x27;)</pre></div></div></div><div class=\"sk-item\"><div class=\"sk-estimator sk-toggleable\"><input class=\"sk-toggleable__control sk-hidden--visually\" id=\"sk-estimator-id-15\" type=\"checkbox\" ><label for=\"sk-estimator-id-15\" class=\"sk-toggleable__label sk-toggleable__label-arrow\">DatetimeFeatures</label><div class=\"sk-toggleable__content\"><pre>DatetimeFeatures(features_to_extract=[&#x27;hour&#x27;, &#x27;minute&#x27;])</pre></div></div></div><div class=\"sk-item\"><div class=\"sk-estimator sk-toggleable\"><input class=\"sk-toggleable__control sk-hidden--visually\" id=\"sk-estimator-id-16\" type=\"checkbox\" ><label for=\"sk-estimator-id-16\" class=\"sk-toggleable__label sk-toggleable__label-arrow\">StandardScaler</label><div class=\"sk-toggleable__content\"><pre>StandardScaler()</pre></div></div></div></div></div></div></div></div></div></div><div class=\"sk-item\"><div class=\"sk-estimator sk-toggleable\"><input class=\"sk-toggleable__control sk-hidden--visually\" id=\"sk-estimator-id-17\" type=\"checkbox\" ><label for=\"sk-estimator-id-17\" class=\"sk-toggleable__label sk-toggleable__label-arrow\">RandomForestRegressor</label><div class=\"sk-toggleable__content\"><pre>RandomForestRegressor(n_estimators=10)</pre></div></div></div></div></div></div></div>"
      ],
      "text/plain": [
       "Pipeline(steps=[('pre',\n",
       "                 ColumnTransformer(transformers=[('num',\n",
       "                                                  Pipeline(steps=[('imputer',\n",
       "                                                                   SimpleImputer(strategy='median')),\n",
       "                                                                  ('scaler',\n",
       "                                                                   StandardScaler())]),\n",
       "                                                  ['duration', 'total_stops']),\n",
       "                                                 ('cat',\n",
       "                                                  Pipeline(steps=[('imputer',\n",
       "                                                                   SimpleImputer(strategy='most_frequent')),\n",
       "                                                                  ('encoder',\n",
       "                                                                   OneHotEncoder(handle_unknown='ignore',\n",
       "                                                                                 sparse_output=False))]),\n",
       "                                                  ['airline', 'source',\n",
       "                                                   '...\n",
       "                                                                   DatetimeFeatures(features_to_extract=['month',\n",
       "                                                                                                         'week',\n",
       "                                                                                                         'day_of_week',\n",
       "                                                                                                         'day_of_month'])),\n",
       "                                                                  ('scaler',\n",
       "                                                                   StandardScaler())]),\n",
       "                                                  ['date_of_journey']),\n",
       "                                                 ('time',\n",
       "                                                  Pipeline(steps=[('imputer',\n",
       "                                                                   SimpleImputer(strategy='most_frequent')),\n",
       "                                                                  ('extractor',\n",
       "                                                                   DatetimeFeatures(features_to_extract=['hour',\n",
       "                                                                                                         'minute'])),\n",
       "                                                                  ('scaler',\n",
       "                                                                   StandardScaler())]),\n",
       "                                                  ['dep_time',\n",
       "                                                   'arrival_time'])])),\n",
       "                ('rf', RandomForestRegressor(n_estimators=10))])"
      ]
     },
     "execution_count": 26,
     "metadata": {},
     "output_type": "execute_result"
    }
   ],
   "source": [
    "model.fit(X_data, y_data)"
   ]
  },
  {
   "cell_type": "code",
   "execution_count": 27,
   "id": "a2a5ceaa-14a1-479f-9324-9654bc7ac4a6",
   "metadata": {},
   "outputs": [],
   "source": [
    "def evaluate_model(X, y):\n",
    "\ty_pred = model.predict(X)\n",
    "\treturn r2_score(y, y_pred)"
   ]
  },
  {
   "cell_type": "code",
   "execution_count": 28,
   "id": "d8792845-e009-4c9d-9963-016c866971f7",
   "metadata": {},
   "outputs": [
    {
     "name": "stdout",
     "output_type": "stream",
     "text": [
      "R2 score on Training data is = 0.9775573437915177\n"
     ]
    }
   ],
   "source": [
    "print(f\"R2 score on Training data is = {evaluate_model(X_data, y_data)}\")"
   ]
  },
  {
   "cell_type": "code",
   "execution_count": 29,
   "id": "44f5f83e-1caa-47a6-98fe-69f206382e1d",
   "metadata": {},
   "outputs": [
    {
     "name": "stdout",
     "output_type": "stream",
     "text": [
      "R2 score on Test data is = 0.8653541910051933\n"
     ]
    }
   ],
   "source": [
    "print(f\"R2 score on Test data is = {evaluate_model(X_test, y_test)}\")"
   ]
  },
  {
   "cell_type": "markdown",
   "id": "92d0132a-83d8-4683-b31c-d20ec3770382",
   "metadata": {},
   "source": [
    "## 8. Model Persistence"
   ]
  },
  {
   "cell_type": "code",
   "execution_count": 30,
   "id": "97e0e065-f98e-429c-bae6-d30f81b2e94a",
   "metadata": {},
   "outputs": [
    {
     "data": {
      "text/plain": [
       "['model.joblib']"
      ]
     },
     "execution_count": 30,
     "metadata": {},
     "output_type": "execute_result"
    }
   ],
   "source": [
    "joblib.dump(model, \"model.joblib\")"
   ]
  },
  {
   "cell_type": "code",
   "execution_count": 31,
   "id": "db8413c6-898c-468a-8762-0d1b47b1a4b1",
   "metadata": {},
   "outputs": [
    {
     "data": {
      "text/html": [
       "<style>#sk-container-id-2 {color: black;background-color: white;}#sk-container-id-2 pre{padding: 0;}#sk-container-id-2 div.sk-toggleable {background-color: white;}#sk-container-id-2 label.sk-toggleable__label {cursor: pointer;display: block;width: 100%;margin-bottom: 0;padding: 0.3em;box-sizing: border-box;text-align: center;}#sk-container-id-2 label.sk-toggleable__label-arrow:before {content: \"▸\";float: left;margin-right: 0.25em;color: #696969;}#sk-container-id-2 label.sk-toggleable__label-arrow:hover:before {color: black;}#sk-container-id-2 div.sk-estimator:hover label.sk-toggleable__label-arrow:before {color: black;}#sk-container-id-2 div.sk-toggleable__content {max-height: 0;max-width: 0;overflow: hidden;text-align: left;background-color: #f0f8ff;}#sk-container-id-2 div.sk-toggleable__content pre {margin: 0.2em;color: black;border-radius: 0.25em;background-color: #f0f8ff;}#sk-container-id-2 input.sk-toggleable__control:checked~div.sk-toggleable__content {max-height: 200px;max-width: 100%;overflow: auto;}#sk-container-id-2 input.sk-toggleable__control:checked~label.sk-toggleable__label-arrow:before {content: \"▾\";}#sk-container-id-2 div.sk-estimator input.sk-toggleable__control:checked~label.sk-toggleable__label {background-color: #d4ebff;}#sk-container-id-2 div.sk-label input.sk-toggleable__control:checked~label.sk-toggleable__label {background-color: #d4ebff;}#sk-container-id-2 input.sk-hidden--visually {border: 0;clip: rect(1px 1px 1px 1px);clip: rect(1px, 1px, 1px, 1px);height: 1px;margin: -1px;overflow: hidden;padding: 0;position: absolute;width: 1px;}#sk-container-id-2 div.sk-estimator {font-family: monospace;background-color: #f0f8ff;border: 1px dotted black;border-radius: 0.25em;box-sizing: border-box;margin-bottom: 0.5em;}#sk-container-id-2 div.sk-estimator:hover {background-color: #d4ebff;}#sk-container-id-2 div.sk-parallel-item::after {content: \"\";width: 100%;border-bottom: 1px solid gray;flex-grow: 1;}#sk-container-id-2 div.sk-label:hover label.sk-toggleable__label {background-color: #d4ebff;}#sk-container-id-2 div.sk-serial::before {content: \"\";position: absolute;border-left: 1px solid gray;box-sizing: border-box;top: 0;bottom: 0;left: 50%;z-index: 0;}#sk-container-id-2 div.sk-serial {display: flex;flex-direction: column;align-items: center;background-color: white;padding-right: 0.2em;padding-left: 0.2em;position: relative;}#sk-container-id-2 div.sk-item {position: relative;z-index: 1;}#sk-container-id-2 div.sk-parallel {display: flex;align-items: stretch;justify-content: center;background-color: white;position: relative;}#sk-container-id-2 div.sk-item::before, #sk-container-id-2 div.sk-parallel-item::before {content: \"\";position: absolute;border-left: 1px solid gray;box-sizing: border-box;top: 0;bottom: 0;left: 50%;z-index: -1;}#sk-container-id-2 div.sk-parallel-item {display: flex;flex-direction: column;z-index: 1;position: relative;background-color: white;}#sk-container-id-2 div.sk-parallel-item:first-child::after {align-self: flex-end;width: 50%;}#sk-container-id-2 div.sk-parallel-item:last-child::after {align-self: flex-start;width: 50%;}#sk-container-id-2 div.sk-parallel-item:only-child::after {width: 0;}#sk-container-id-2 div.sk-dashed-wrapped {border: 1px dashed gray;margin: 0 0.4em 0.5em 0.4em;box-sizing: border-box;padding-bottom: 0.4em;background-color: white;}#sk-container-id-2 div.sk-label label {font-family: monospace;font-weight: bold;display: inline-block;line-height: 1.2em;}#sk-container-id-2 div.sk-label-container {text-align: center;}#sk-container-id-2 div.sk-container {/* jupyter's `normalize.less` sets `[hidden] { display: none; }` but bootstrap.min.css set `[hidden] { display: none !important; }` so we also need the `!important` here to be able to override the default hidden behavior on the sphinx rendered scikit-learn.org. See: https://github.com/scikit-learn/scikit-learn/issues/21755 */display: inline-block !important;position: relative;}#sk-container-id-2 div.sk-text-repr-fallback {display: none;}</style><div id=\"sk-container-id-2\" class=\"sk-top-container\"><div class=\"sk-text-repr-fallback\"><pre>Pipeline(steps=[(&#x27;pre&#x27;,\n",
       "                 ColumnTransformer(transformers=[(&#x27;num&#x27;,\n",
       "                                                  Pipeline(steps=[(&#x27;imputer&#x27;,\n",
       "                                                                   SimpleImputer(strategy=&#x27;median&#x27;)),\n",
       "                                                                  (&#x27;scaler&#x27;,\n",
       "                                                                   StandardScaler())]),\n",
       "                                                  [&#x27;duration&#x27;, &#x27;total_stops&#x27;]),\n",
       "                                                 (&#x27;cat&#x27;,\n",
       "                                                  Pipeline(steps=[(&#x27;imputer&#x27;,\n",
       "                                                                   SimpleImputer(strategy=&#x27;most_frequent&#x27;)),\n",
       "                                                                  (&#x27;encoder&#x27;,\n",
       "                                                                   OneHotEncoder(handle_unknown=&#x27;ignore&#x27;,\n",
       "                                                                                 sparse_output=False))]),\n",
       "                                                  [&#x27;airline&#x27;, &#x27;source&#x27;,\n",
       "                                                   &#x27;...\n",
       "                                                                   DatetimeFeatures(features_to_extract=[&#x27;month&#x27;,\n",
       "                                                                                                         &#x27;week&#x27;,\n",
       "                                                                                                         &#x27;day_of_week&#x27;,\n",
       "                                                                                                         &#x27;day_of_month&#x27;])),\n",
       "                                                                  (&#x27;scaler&#x27;,\n",
       "                                                                   StandardScaler())]),\n",
       "                                                  [&#x27;date_of_journey&#x27;]),\n",
       "                                                 (&#x27;time&#x27;,\n",
       "                                                  Pipeline(steps=[(&#x27;imputer&#x27;,\n",
       "                                                                   SimpleImputer(strategy=&#x27;most_frequent&#x27;)),\n",
       "                                                                  (&#x27;extractor&#x27;,\n",
       "                                                                   DatetimeFeatures(features_to_extract=[&#x27;hour&#x27;,\n",
       "                                                                                                         &#x27;minute&#x27;])),\n",
       "                                                                  (&#x27;scaler&#x27;,\n",
       "                                                                   StandardScaler())]),\n",
       "                                                  [&#x27;dep_time&#x27;,\n",
       "                                                   &#x27;arrival_time&#x27;])])),\n",
       "                (&#x27;rf&#x27;, RandomForestRegressor(n_estimators=10))])</pre><b>In a Jupyter environment, please rerun this cell to show the HTML representation or trust the notebook. <br />On GitHub, the HTML representation is unable to render, please try loading this page with nbviewer.org.</b></div><div class=\"sk-container\" hidden><div class=\"sk-item sk-dashed-wrapped\"><div class=\"sk-label-container\"><div class=\"sk-label sk-toggleable\"><input class=\"sk-toggleable__control sk-hidden--visually\" id=\"sk-estimator-id-18\" type=\"checkbox\" ><label for=\"sk-estimator-id-18\" class=\"sk-toggleable__label sk-toggleable__label-arrow\">Pipeline</label><div class=\"sk-toggleable__content\"><pre>Pipeline(steps=[(&#x27;pre&#x27;,\n",
       "                 ColumnTransformer(transformers=[(&#x27;num&#x27;,\n",
       "                                                  Pipeline(steps=[(&#x27;imputer&#x27;,\n",
       "                                                                   SimpleImputer(strategy=&#x27;median&#x27;)),\n",
       "                                                                  (&#x27;scaler&#x27;,\n",
       "                                                                   StandardScaler())]),\n",
       "                                                  [&#x27;duration&#x27;, &#x27;total_stops&#x27;]),\n",
       "                                                 (&#x27;cat&#x27;,\n",
       "                                                  Pipeline(steps=[(&#x27;imputer&#x27;,\n",
       "                                                                   SimpleImputer(strategy=&#x27;most_frequent&#x27;)),\n",
       "                                                                  (&#x27;encoder&#x27;,\n",
       "                                                                   OneHotEncoder(handle_unknown=&#x27;ignore&#x27;,\n",
       "                                                                                 sparse_output=False))]),\n",
       "                                                  [&#x27;airline&#x27;, &#x27;source&#x27;,\n",
       "                                                   &#x27;...\n",
       "                                                                   DatetimeFeatures(features_to_extract=[&#x27;month&#x27;,\n",
       "                                                                                                         &#x27;week&#x27;,\n",
       "                                                                                                         &#x27;day_of_week&#x27;,\n",
       "                                                                                                         &#x27;day_of_month&#x27;])),\n",
       "                                                                  (&#x27;scaler&#x27;,\n",
       "                                                                   StandardScaler())]),\n",
       "                                                  [&#x27;date_of_journey&#x27;]),\n",
       "                                                 (&#x27;time&#x27;,\n",
       "                                                  Pipeline(steps=[(&#x27;imputer&#x27;,\n",
       "                                                                   SimpleImputer(strategy=&#x27;most_frequent&#x27;)),\n",
       "                                                                  (&#x27;extractor&#x27;,\n",
       "                                                                   DatetimeFeatures(features_to_extract=[&#x27;hour&#x27;,\n",
       "                                                                                                         &#x27;minute&#x27;])),\n",
       "                                                                  (&#x27;scaler&#x27;,\n",
       "                                                                   StandardScaler())]),\n",
       "                                                  [&#x27;dep_time&#x27;,\n",
       "                                                   &#x27;arrival_time&#x27;])])),\n",
       "                (&#x27;rf&#x27;, RandomForestRegressor(n_estimators=10))])</pre></div></div></div><div class=\"sk-serial\"><div class=\"sk-item sk-dashed-wrapped\"><div class=\"sk-label-container\"><div class=\"sk-label sk-toggleable\"><input class=\"sk-toggleable__control sk-hidden--visually\" id=\"sk-estimator-id-19\" type=\"checkbox\" ><label for=\"sk-estimator-id-19\" class=\"sk-toggleable__label sk-toggleable__label-arrow\">pre: ColumnTransformer</label><div class=\"sk-toggleable__content\"><pre>ColumnTransformer(transformers=[(&#x27;num&#x27;,\n",
       "                                 Pipeline(steps=[(&#x27;imputer&#x27;,\n",
       "                                                  SimpleImputer(strategy=&#x27;median&#x27;)),\n",
       "                                                 (&#x27;scaler&#x27;, StandardScaler())]),\n",
       "                                 [&#x27;duration&#x27;, &#x27;total_stops&#x27;]),\n",
       "                                (&#x27;cat&#x27;,\n",
       "                                 Pipeline(steps=[(&#x27;imputer&#x27;,\n",
       "                                                  SimpleImputer(strategy=&#x27;most_frequent&#x27;)),\n",
       "                                                 (&#x27;encoder&#x27;,\n",
       "                                                  OneHotEncoder(handle_unknown=&#x27;ignore&#x27;,\n",
       "                                                                sparse_output=False))]),\n",
       "                                 [&#x27;airline&#x27;, &#x27;source&#x27;, &#x27;destination&#x27;,\n",
       "                                  &#x27;additiona...\n",
       "                                                 (&#x27;extractor&#x27;,\n",
       "                                                  DatetimeFeatures(features_to_extract=[&#x27;month&#x27;,\n",
       "                                                                                        &#x27;week&#x27;,\n",
       "                                                                                        &#x27;day_of_week&#x27;,\n",
       "                                                                                        &#x27;day_of_month&#x27;])),\n",
       "                                                 (&#x27;scaler&#x27;, StandardScaler())]),\n",
       "                                 [&#x27;date_of_journey&#x27;]),\n",
       "                                (&#x27;time&#x27;,\n",
       "                                 Pipeline(steps=[(&#x27;imputer&#x27;,\n",
       "                                                  SimpleImputer(strategy=&#x27;most_frequent&#x27;)),\n",
       "                                                 (&#x27;extractor&#x27;,\n",
       "                                                  DatetimeFeatures(features_to_extract=[&#x27;hour&#x27;,\n",
       "                                                                                        &#x27;minute&#x27;])),\n",
       "                                                 (&#x27;scaler&#x27;, StandardScaler())]),\n",
       "                                 [&#x27;dep_time&#x27;, &#x27;arrival_time&#x27;])])</pre></div></div></div><div class=\"sk-parallel\"><div class=\"sk-parallel-item\"><div class=\"sk-item\"><div class=\"sk-label-container\"><div class=\"sk-label sk-toggleable\"><input class=\"sk-toggleable__control sk-hidden--visually\" id=\"sk-estimator-id-20\" type=\"checkbox\" ><label for=\"sk-estimator-id-20\" class=\"sk-toggleable__label sk-toggleable__label-arrow\">num</label><div class=\"sk-toggleable__content\"><pre>[&#x27;duration&#x27;, &#x27;total_stops&#x27;]</pre></div></div></div><div class=\"sk-serial\"><div class=\"sk-item\"><div class=\"sk-serial\"><div class=\"sk-item\"><div class=\"sk-estimator sk-toggleable\"><input class=\"sk-toggleable__control sk-hidden--visually\" id=\"sk-estimator-id-21\" type=\"checkbox\" ><label for=\"sk-estimator-id-21\" class=\"sk-toggleable__label sk-toggleable__label-arrow\">SimpleImputer</label><div class=\"sk-toggleable__content\"><pre>SimpleImputer(strategy=&#x27;median&#x27;)</pre></div></div></div><div class=\"sk-item\"><div class=\"sk-estimator sk-toggleable\"><input class=\"sk-toggleable__control sk-hidden--visually\" id=\"sk-estimator-id-22\" type=\"checkbox\" ><label for=\"sk-estimator-id-22\" class=\"sk-toggleable__label sk-toggleable__label-arrow\">StandardScaler</label><div class=\"sk-toggleable__content\"><pre>StandardScaler()</pre></div></div></div></div></div></div></div></div><div class=\"sk-parallel-item\"><div class=\"sk-item\"><div class=\"sk-label-container\"><div class=\"sk-label sk-toggleable\"><input class=\"sk-toggleable__control sk-hidden--visually\" id=\"sk-estimator-id-23\" type=\"checkbox\" ><label for=\"sk-estimator-id-23\" class=\"sk-toggleable__label sk-toggleable__label-arrow\">cat</label><div class=\"sk-toggleable__content\"><pre>[&#x27;airline&#x27;, &#x27;source&#x27;, &#x27;destination&#x27;, &#x27;additional_info&#x27;]</pre></div></div></div><div class=\"sk-serial\"><div class=\"sk-item\"><div class=\"sk-serial\"><div class=\"sk-item\"><div class=\"sk-estimator sk-toggleable\"><input class=\"sk-toggleable__control sk-hidden--visually\" id=\"sk-estimator-id-24\" type=\"checkbox\" ><label for=\"sk-estimator-id-24\" class=\"sk-toggleable__label sk-toggleable__label-arrow\">SimpleImputer</label><div class=\"sk-toggleable__content\"><pre>SimpleImputer(strategy=&#x27;most_frequent&#x27;)</pre></div></div></div><div class=\"sk-item\"><div class=\"sk-estimator sk-toggleable\"><input class=\"sk-toggleable__control sk-hidden--visually\" id=\"sk-estimator-id-25\" type=\"checkbox\" ><label for=\"sk-estimator-id-25\" class=\"sk-toggleable__label sk-toggleable__label-arrow\">OneHotEncoder</label><div class=\"sk-toggleable__content\"><pre>OneHotEncoder(handle_unknown=&#x27;ignore&#x27;, sparse_output=False)</pre></div></div></div></div></div></div></div></div><div class=\"sk-parallel-item\"><div class=\"sk-item\"><div class=\"sk-label-container\"><div class=\"sk-label sk-toggleable\"><input class=\"sk-toggleable__control sk-hidden--visually\" id=\"sk-estimator-id-26\" type=\"checkbox\" ><label for=\"sk-estimator-id-26\" class=\"sk-toggleable__label sk-toggleable__label-arrow\">doj</label><div class=\"sk-toggleable__content\"><pre>[&#x27;date_of_journey&#x27;]</pre></div></div></div><div class=\"sk-serial\"><div class=\"sk-item\"><div class=\"sk-serial\"><div class=\"sk-item\"><div class=\"sk-estimator sk-toggleable\"><input class=\"sk-toggleable__control sk-hidden--visually\" id=\"sk-estimator-id-27\" type=\"checkbox\" ><label for=\"sk-estimator-id-27\" class=\"sk-toggleable__label sk-toggleable__label-arrow\">SimpleImputer</label><div class=\"sk-toggleable__content\"><pre>SimpleImputer(strategy=&#x27;most_frequent&#x27;)</pre></div></div></div><div class=\"sk-item\"><div class=\"sk-estimator sk-toggleable\"><input class=\"sk-toggleable__control sk-hidden--visually\" id=\"sk-estimator-id-28\" type=\"checkbox\" ><label for=\"sk-estimator-id-28\" class=\"sk-toggleable__label sk-toggleable__label-arrow\">DatetimeFeatures</label><div class=\"sk-toggleable__content\"><pre>DatetimeFeatures(features_to_extract=[&#x27;month&#x27;, &#x27;week&#x27;, &#x27;day_of_week&#x27;,\n",
       "                                      &#x27;day_of_month&#x27;])</pre></div></div></div><div class=\"sk-item\"><div class=\"sk-estimator sk-toggleable\"><input class=\"sk-toggleable__control sk-hidden--visually\" id=\"sk-estimator-id-29\" type=\"checkbox\" ><label for=\"sk-estimator-id-29\" class=\"sk-toggleable__label sk-toggleable__label-arrow\">StandardScaler</label><div class=\"sk-toggleable__content\"><pre>StandardScaler()</pre></div></div></div></div></div></div></div></div><div class=\"sk-parallel-item\"><div class=\"sk-item\"><div class=\"sk-label-container\"><div class=\"sk-label sk-toggleable\"><input class=\"sk-toggleable__control sk-hidden--visually\" id=\"sk-estimator-id-30\" type=\"checkbox\" ><label for=\"sk-estimator-id-30\" class=\"sk-toggleable__label sk-toggleable__label-arrow\">time</label><div class=\"sk-toggleable__content\"><pre>[&#x27;dep_time&#x27;, &#x27;arrival_time&#x27;]</pre></div></div></div><div class=\"sk-serial\"><div class=\"sk-item\"><div class=\"sk-serial\"><div class=\"sk-item\"><div class=\"sk-estimator sk-toggleable\"><input class=\"sk-toggleable__control sk-hidden--visually\" id=\"sk-estimator-id-31\" type=\"checkbox\" ><label for=\"sk-estimator-id-31\" class=\"sk-toggleable__label sk-toggleable__label-arrow\">SimpleImputer</label><div class=\"sk-toggleable__content\"><pre>SimpleImputer(strategy=&#x27;most_frequent&#x27;)</pre></div></div></div><div class=\"sk-item\"><div class=\"sk-estimator sk-toggleable\"><input class=\"sk-toggleable__control sk-hidden--visually\" id=\"sk-estimator-id-32\" type=\"checkbox\" ><label for=\"sk-estimator-id-32\" class=\"sk-toggleable__label sk-toggleable__label-arrow\">DatetimeFeatures</label><div class=\"sk-toggleable__content\"><pre>DatetimeFeatures(features_to_extract=[&#x27;hour&#x27;, &#x27;minute&#x27;])</pre></div></div></div><div class=\"sk-item\"><div class=\"sk-estimator sk-toggleable\"><input class=\"sk-toggleable__control sk-hidden--visually\" id=\"sk-estimator-id-33\" type=\"checkbox\" ><label for=\"sk-estimator-id-33\" class=\"sk-toggleable__label sk-toggleable__label-arrow\">StandardScaler</label><div class=\"sk-toggleable__content\"><pre>StandardScaler()</pre></div></div></div></div></div></div></div></div></div></div><div class=\"sk-item\"><div class=\"sk-estimator sk-toggleable\"><input class=\"sk-toggleable__control sk-hidden--visually\" id=\"sk-estimator-id-34\" type=\"checkbox\" ><label for=\"sk-estimator-id-34\" class=\"sk-toggleable__label sk-toggleable__label-arrow\">RandomForestRegressor</label><div class=\"sk-toggleable__content\"><pre>RandomForestRegressor(n_estimators=10)</pre></div></div></div></div></div></div></div>"
      ],
      "text/plain": [
       "Pipeline(steps=[('pre',\n",
       "                 ColumnTransformer(transformers=[('num',\n",
       "                                                  Pipeline(steps=[('imputer',\n",
       "                                                                   SimpleImputer(strategy='median')),\n",
       "                                                                  ('scaler',\n",
       "                                                                   StandardScaler())]),\n",
       "                                                  ['duration', 'total_stops']),\n",
       "                                                 ('cat',\n",
       "                                                  Pipeline(steps=[('imputer',\n",
       "                                                                   SimpleImputer(strategy='most_frequent')),\n",
       "                                                                  ('encoder',\n",
       "                                                                   OneHotEncoder(handle_unknown='ignore',\n",
       "                                                                                 sparse_output=False))]),\n",
       "                                                  ['airline', 'source',\n",
       "                                                   '...\n",
       "                                                                   DatetimeFeatures(features_to_extract=['month',\n",
       "                                                                                                         'week',\n",
       "                                                                                                         'day_of_week',\n",
       "                                                                                                         'day_of_month'])),\n",
       "                                                                  ('scaler',\n",
       "                                                                   StandardScaler())]),\n",
       "                                                  ['date_of_journey']),\n",
       "                                                 ('time',\n",
       "                                                  Pipeline(steps=[('imputer',\n",
       "                                                                   SimpleImputer(strategy='most_frequent')),\n",
       "                                                                  ('extractor',\n",
       "                                                                   DatetimeFeatures(features_to_extract=['hour',\n",
       "                                                                                                         'minute'])),\n",
       "                                                                  ('scaler',\n",
       "                                                                   StandardScaler())]),\n",
       "                                                  ['dep_time',\n",
       "                                                   'arrival_time'])])),\n",
       "                ('rf', RandomForestRegressor(n_estimators=10))])"
      ]
     },
     "execution_count": 31,
     "metadata": {},
     "output_type": "execute_result"
    }
   ],
   "source": [
    "saved_model = joblib.load(\"model.joblib\")\n",
    "saved_model"
   ]
  },
  {
   "cell_type": "code",
   "execution_count": 32,
   "id": "ad8962dd-04e0-4de7-9827-5f276f21f858",
   "metadata": {},
   "outputs": [
    {
     "data": {
      "text/plain": [
       "0.8653541910051933"
      ]
     },
     "execution_count": 32,
     "metadata": {},
     "output_type": "execute_result"
    }
   ],
   "source": [
    "y_pred = saved_model.predict(X_test)\n",
    "\n",
    "r2_score(y_test, y_pred)"
   ]
  }
 ],
 "metadata": {
  "kernelspec": {
   "display_name": "Python 3 (ipykernel)",
   "language": "python",
   "name": "python3"
  },
  "language_info": {
   "codemirror_mode": {
    "name": "ipython",
    "version": 3
   },
   "file_extension": ".py",
   "mimetype": "text/x-python",
   "name": "python",
   "nbconvert_exporter": "python",
   "pygments_lexer": "ipython3",
   "version": "3.11.3"
  }
 },
 "nbformat": 4,
 "nbformat_minor": 5
}
